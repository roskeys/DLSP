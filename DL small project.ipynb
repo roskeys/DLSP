{
 "cells": [
  {
   "cell_type": "code",
   "execution_count": 2,
   "metadata": {},
   "outputs": [],
   "source": [
    "# Matplotlib\n",
    "import matplotlib.pyplot as plt\n",
    "# Numpy\n",
    "import numpy as np\n",
    "# Pillow\n",
    "from PIL import Image\n",
    "# Torch\n",
    "import torch\n",
    "from torch.utils.data import Dataset, DataLoader\n",
    "import torch.nn as nn\n",
    "import torch.optim as optim\n",
    "import torch.nn.functional as F\n",
    "from torchvision import transforms"
   ]
  },
  {
   "cell_type": "code",
   "execution_count": 3,
   "metadata": {},
   "outputs": [
    {
     "name": "stdout",
     "output_type": "stream",
     "text": [
      "{'train_normal': 1340, 'train_non-covid': 2529, 'train_covid': 1344, 'val_normal': 7, 'val_non-covid': 7, 'val_covid': 8, 'test_normal': 233, 'test_non-covid': 241, 'test_covid': 138}\n"
     ]
    }
   ],
   "source": [
    "size = (150, 150)\n",
    "groups = ['train', 'test', 'val']\n",
    "classes = {0: 'normal', 1: 'non-covid', 2:\"covid\"}\n",
    "\n",
    "dataset_numbers = {'train_normal': 1340,\\\n",
    "                   'train_non-covid': 2529,\\\n",
    "                   'train_covid':1344,\\\n",
    "                   'val_normal': 7,\\\n",
    "                   'val_non-covid': 7,\\\n",
    "                   'val_covid': 8,\\\n",
    "                   'test_normal': 233,\\\n",
    "                   'test_non-covid': 241,\\\n",
    "                   'test_covid': 138}\n",
    "print(dataset_numbers)"
   ]
  },
  {
   "cell_type": "code",
   "execution_count": null,
   "metadata": {},
   "outputs": [],
   "source": [
    "dataset_paths = {'train_normal': './dataset/train/normal/',\\\n",
    "                 'train_non-covid': './dataset/train/infected/non-covid/',\\\n",
    "                 'train_covid': './dataset/train/infected/covid/',\\\n",
    "                 'val_normal': './dataset/val/normal/',\\\n",
    "                 'val_non-covid': './dataset/val/infected/non-covid/',\\\n",
    "                 'val_covid': './dataset/val/infected/covid/',\\\n",
    "                 'test_normal': './dataset/test/normal/',\\\n",
    "                 'test_non-covid': './dataset/test/infected/non-covid/',\\\n",
    "                 'test_covid': './dataset/test/infected/covid/'}\n",
    "print(dataset_paths)"
   ]
  }
 ],
 "metadata": {
  "kernelspec": {
   "display_name": "Python 3",
   "language": "python",
   "name": "python3"
  },
  "language_info": {
   "codemirror_mode": {
    "name": "ipython",
    "version": 3
   },
   "file_extension": ".py",
   "mimetype": "text/x-python",
   "name": "python",
   "nbconvert_exporter": "python",
   "pygments_lexer": "ipython3",
   "version": "3.6.10"
  }
 },
 "nbformat": 4,
 "nbformat_minor": 4
}
